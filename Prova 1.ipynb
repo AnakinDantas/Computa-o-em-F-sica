{
 "cells": [
  {
   "cell_type": "markdown",
   "id": "c4fd6d8d",
   "metadata": {},
   "source": [
    "# Introdução à computação em física, 2023-II\n",
    "## Prova 1 (10 de Outubro de 2023)\n",
    "## LEIA COM ATENÇÃO\n",
    "\n",
    "\n",
    "Resolva os pontos 1, e 2 usando jupyter notebook (ou google colab), envie a resolução (arquivo `.ipynb`) via moodle. Na resolução utilize a maior quantidade de comentários possível, descrevendo o raciocinio usado na construção do seu algorítmo.\n",
    "\n",
    "Podem resolver a prova em duplas, apenas um envio é necessário. As provas que sejam cola idéntica serão anuladas.\n"
   ]
  },
  {
   "cell_type": "markdown",
   "id": "a5a7545f",
   "metadata": {},
   "source": [
    "1. O sistema mecânico vibracional mais simples, apresentado na figura seguinte, corresponde a uma massa, $m$, pressa a uma mola que de desloca sem atrito ao longo do eixo $x$.  A posição do corpo está dada pelo vetor ${\\bf r} = x(t) {\\hat i}$. No caso, a única força agindo sob a massa é a força da mola, $F_m = -k x {\\hat i}$, onde $k$ é a constante da mola.  O ponto $x=0$, deve corresponder então à posição onde a mola não está nem comprimida nem esticada, logo $F_m = 0$.\n",
    "\n",
    "<img src=\"./oscillator_spring.png\" width=40% >\n",
    " \n",
    "\n",
    "   O movimento do corpo é governado pela segunda lei de Newton: ${\\bf F} = m \\;  d^2x/dt^2 {\\hat i}$, onde ${\\bf F}$ é a soma das forças sob o objeto. Assim a equação de movimento seria:\n",
    "\n",
    "$$\n",
    "-kx =m  \\;\\frac{d^2x}{dt^2}.\n",
    "$$\n",
    "\n",
    "   Definindo $\\omega = \\sqrt{k/m}$, podemos escrever a equação da seguinte forma:\n",
    "\n",
    "$$\n",
    "\\frac{d^2x}{dt^2} = - \\omega^2 x.\n",
    "$$\n",
    "\n",
    "   Para encontrar uma solução a essa equação precisamos saber as condições iniciais do objeto, ou seja a posição inicial $x(t=0) = I$,  e a velocidade inicial $\\frac{dx}{dt}(t=0) = V$. \n",
    "\n",
    "   Na nossa aula sobre derivadas numéricas vimos que a segunda derivada pode se escrever de forma discreta no espacio. Se a expansão em serie de Taylor for feita no tempo, a mesma equação pode descrever a segunda derivada no tempo, assim:\n",
    "\n",
    "$$\n",
    "\\frac{d^2x}{dt^2} = \\frac{x^{n+1} -2x^n + x^{n-1}}{\\Delta t^2}, \n",
    "$$\n",
    "\n",
    "   onde o índice $n = 0, 1, 2, 3, \\ldots, N$, indica o avanço do tempo, e $\\Delta t$ a separação temporal entre, por exemplo, $x^{n+1}$ e $x^n$. Assumindo então que o lado direito na equação de movimento corresponde a $-\\omega^2 x^n$, e que os valores de $x$ para $n=0$ e $n=1$ sejam conhecidos, então podemos encontrar a o valor de $x$ para $n=2$. Depois, conhecidos os valores de $x$ para  $n=1$ e $n=2$, podemos encontrar $x^{n=3}$, e assim sucessivamente. \n",
    "\n",
    "   a) (40%)  Utilizando diferenças finitas centradas,  como descrito acima, encontre a evolução de um objeto considerando $I=1$ e $V = 0$ (dica: utilize a equação em diferenças finitas para a primeira derivada para estimar $x^{n=1}$).  Considere $\\omega = 2 \\pi$ e $\\Delta t = 0.05$ e que o objeto evolui por 5 períodos (lembre que $T=2\\pi/\\omega$). Compare seu resultado com o resultado analítico exato segundo o qual $x = I \\cos(\\omega t)$.\n",
    "\n",
    "   b) (20%) Para o um tempo determinado, exemplo, $t=3$, calcule o erro relativo da sua solução.  O que acontece se $\\Delta t = 0.1$?  É possivel estimar para que valor do passo temporal o erro de round-off começará ser importante?\n"
   ]
  },
  {
   "cell_type": "markdown",
   "id": "c426e112",
   "metadata": {},
   "source": [
    "### Escolha apenas 1 dos pontos seguintes"
   ]
  },
  {
   "cell_type": "markdown",
   "id": "6a1b9158",
   "metadata": {},
   "source": [
    "2.1 (a) 40% -- Uma forma simples de descrever a trajetoria de um planeta arredor do sol é usando funções harmônicas\n",
    "\n",
    "$$\n",
    "x_p = R \\cos(\\omega t)\n",
    "$$\n",
    "$$\n",
    "y_p = R \\sin(\\omega t)\n",
    "$$\n",
    "\n",
    "Onde $R$ é o raio do planeta e $\\omega = 2 \\pi/P$ a frequencia angular, $P$ é o período do planeta arredor do sol. Para a terra, $R = 1$ UA (Unidades astronómicas) e $P = 1$ ano. A terra, por sua vez, possui um satelite natural, a Lua, que tem um período de $P_L = 1/12$ anos (~1 mes), e está a uma distância da terra de $r_L = 0.025$ UA.  A posição da Lua num referen1cial incercial, similar ao do planeta, seria:\n",
    "\n",
    "$$\n",
    "x_s =  x_p + r \\cos(\\omega_s t)\n",
    "$$\n",
    "$$\n",
    "y_s = y_p  + r \\sin(\\omega_s t)\n",
    "$$\n",
    "\n",
    "Escreva uma classe que inicialice qualquer objeto que percorre uma trajetoria circular com um raio e um período determinados.  A classe deve inicializar o objeto, e ter funções que definam suas posições em $x$ e em $y$ para um determinado tempo $t$. A classe deve permitir a soma das coordenadas  para calcular a posição de satelites, conforme as equações acima.  Faça o gráfico das posições $x$ e $y$ como função do tempo, e também o grafico de todas as posições $x$ vs $y$ para todos os tempos. Considere $0 < t < 1$. \n",
    "\n",
    "Considere também usar os valores $R = 0.5$ UA e $r_L = 0.2$ UA.  Discuta seus resultados. \n",
    "\n"
   ]
  },
  {
   "cell_type": "markdown",
   "id": "09caba6f",
   "metadata": {},
   "source": [
    "2.2 (a) 10% -- Escreva as equações de movimento de um corpo (segunda lei de Newton) em duas dimensões. Caso o corpo tenha posição e velocidade iniciais dadas por ($x_0,y_0$), ($v_{x_0},v_{y_0}$), e acelerações dadas por ($a_{x},a_{y}$), escreva a solução geral das equações de movimento, isto é $x$ e $y$ como função de $t$.\n",
    "\n",
    "(b) 20%  -- Escreva uma clase que permita inicializar uma partícula com sua posição e velocidade iniciais, que tenha como instâncias as posições $x$ e $y$ em um tempo $t$. Experimente com os seguintes casos:\n",
    "  \n",
    "$$\n",
    "(x_0,y_0) = (0,0); \\;  (v_{x0},v_{y0}) = (3,4); \\; a_x = 0, a_y = -9.8 . \\\\\n",
    "(x_0,y_0) = (0,0); \\;  (v_{x0},v_{y0}) = (5,5); \\; a_x = 0, a_y = -9.8 .\n",
    "$$\n",
    "    \n",
    "Grafique e discuta seus resultados\n",
    "    \n",
    "(c) 20% -- O vetor velocidade define um angulo de lançamento $\\theta$, considere a magnitude da velocidade inicial de lançamento, $v_0 = 10$ m/s, e varie o angulo $\\theta$ desde 85 até 5 graus.  Grafique e discuta. \n",
    "    "
   ]
  },
  {
   "cell_type": "code",
   "execution_count": null,
   "id": "abe59925",
   "metadata": {},
   "outputs": [],
   "source": []
  }
 ],
 "metadata": {
  "kernelspec": {
   "display_name": "Python 3 (ipykernel)",
   "language": "python",
   "name": "python3"
  },
  "language_info": {
   "codemirror_mode": {
    "name": "ipython",
    "version": 3
   },
   "file_extension": ".py",
   "mimetype": "text/x-python",
   "name": "python",
   "nbconvert_exporter": "python",
   "pygments_lexer": "ipython3",
   "version": "3.9.12"
  }
 },
 "nbformat": 4,
 "nbformat_minor": 5
}
